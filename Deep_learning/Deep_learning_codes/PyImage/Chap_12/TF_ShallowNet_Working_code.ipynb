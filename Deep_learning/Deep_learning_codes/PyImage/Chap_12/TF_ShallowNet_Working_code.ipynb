{
 "cells": [
  {
   "cell_type": "code",
   "execution_count": 1,
   "metadata": {},
   "outputs": [
    {
     "name": "stderr",
     "output_type": "stream",
     "text": [
      "Using TensorFlow backend.\n"
     ]
    }
   ],
   "source": [
    "import numpy as np\n",
    "import cv2\n",
    "import os\n",
    "from tqdm import tqdm\n",
    "from time import time\n",
    "\n",
    "from keras.preprocessing.image import img_to_array\n",
    "import tensorflow as tf\n",
    "\n",
    "from sklearn.preprocessing import LabelBinarizer\n",
    "from sklearn.model_selection import train_test_split\n",
    "from sklearn.metrics import classification_report\n",
    "from imutils import paths\n",
    "import matplotlib.pyplot as plt\n",
    "import numpy as np\n",
    "import argparse\n",
    "\n"
   ]
  },
  {
   "cell_type": "code",
   "execution_count": 2,
   "metadata": {},
   "outputs": [],
   "source": [
    "# import the necessary packages\n",
    "\n",
    "class SimplePreprocessor:\n",
    "    def __init__(self, width, height, inter=cv2.INTER_AREA):\n",
    "        # store the target image width, height, and interpolation\n",
    "        # method used when resizing\n",
    "        self.width = width\n",
    "        self.height = height\n",
    "        self.inter = inter\n",
    "\n",
    "    def preprocess(self, image):\n",
    "        # resize the image to a fixed size, ignoring the aspect\n",
    "        # ratio\n",
    "        return cv2.resize(image, (self.width, self.height),interpolation=self.inter)"
   ]
  },
  {
   "cell_type": "code",
   "execution_count": 3,
   "metadata": {},
   "outputs": [],
   "source": [
    "# import the necessary packages\n",
    "\n",
    "class ImageToArrayPreprocessor:\n",
    "    def __init__(self, dataFormat=None):\n",
    "        # store the image data format\n",
    "        self.dataFormat = dataFormat\n",
    "\n",
    "    def preprocess(self, image):\n",
    "        # apply the Keras utility function that correctly rearranges\n",
    "        # the dimensions of the image\n",
    "#         return img_to_array(image, data_format=self.dataFormat)\n",
    "        return img_to_array(image)"
   ]
  },
  {
   "cell_type": "code",
   "execution_count": 4,
   "metadata": {},
   "outputs": [],
   "source": [
    "class SimpleDatasetLoader:\n",
    "#     def __init__(self, preprocessors=None):\n",
    "    def __init__(self, width, height):\n",
    "        from tqdm import tqdm\n",
    "        self.width = width\n",
    "        self.height = height\n",
    "\n",
    "\n",
    "\n",
    "    def load(self, imagePaths, verbose=-1):\n",
    "        # initialize the list of features and labels\n",
    "        data = []\n",
    "        labels = []\n",
    "\n",
    "        for img in tqdm(os.listdir(imagePaths)):\n",
    "            label = img\n",
    "            path = os.path.join(imagePaths,img)\n",
    "            for filename in os.listdir(path):\n",
    "                image = cv2.imread(os.path.join(path, filename))\n",
    "                sp = SimplePreprocessor(self.width, self.height)\n",
    "                image = sp.preprocess(image)\n",
    "#                 print (\"sp completed\")\n",
    "                iap = ImageToArrayPreprocessor()\n",
    "                image = iap.preprocess(image)\n",
    "\n",
    "                data.append(image)\n",
    "                labels.append(label)\n",
    "\n",
    "        return (np.array(data), np.array(labels))\n"
   ]
  },
  {
   "cell_type": "code",
   "execution_count": 5,
   "metadata": {},
   "outputs": [
    {
     "name": "stdout",
     "output_type": "stream",
     "text": [
      "[INFO] loading images...\n"
     ]
    },
    {
     "name": "stderr",
     "output_type": "stream",
     "text": [
      "100%|████████████████████████████████████████████████████████████| 3/3 [00:13<00:00,  4.26s/it]\n"
     ]
    },
    {
     "name": "stdout",
     "output_type": "stream",
     "text": [
      "completed\n"
     ]
    }
   ],
   "source": [
    "print(\"[INFO] loading images...\")\n",
    "imagePaths = 'G:/pyimagesearch/SB_Code/SB_Code/datasets/animals/'\n",
    "\n",
    "sdl = SimpleDatasetLoader(width = 32, height = 32)\n",
    "(data, labels) = sdl.load(imagePaths, verbose=500)\n",
    "data = data.astype(\"float\") / 255.0\n",
    "print ('completed')"
   ]
  },
  {
   "cell_type": "code",
   "execution_count": null,
   "metadata": {},
   "outputs": [],
   "source": []
  },
  {
   "cell_type": "code",
   "execution_count": 6,
   "metadata": {},
   "outputs": [],
   "source": [
    "(trainX, testX, trainY, testY) = train_test_split(data, labels, test_size=0.25, random_state=42)\n",
    "# convert the labels from integers to vectors\n",
    "trainY = LabelBinarizer().fit_transform(trainY)\n",
    "testY = LabelBinarizer().fit_transform(testY)"
   ]
  },
  {
   "cell_type": "code",
   "execution_count": 7,
   "metadata": {},
   "outputs": [
    {
     "data": {
      "text/plain": [
       "(2250, 32, 32, 3)"
      ]
     },
     "execution_count": 7,
     "metadata": {},
     "output_type": "execute_result"
    }
   ],
   "source": [
    "trainX.shape"
   ]
  },
  {
   "cell_type": "code",
   "execution_count": 8,
   "metadata": {},
   "outputs": [
    {
     "data": {
      "text/plain": [
       "(2250, 3)"
      ]
     },
     "execution_count": 8,
     "metadata": {},
     "output_type": "execute_result"
    }
   ],
   "source": [
    "trainY.shape"
   ]
  },
  {
   "cell_type": "code",
   "execution_count": 9,
   "metadata": {},
   "outputs": [
    {
     "data": {
      "text/plain": [
       "3072"
      ]
     },
     "execution_count": 9,
     "metadata": {},
     "output_type": "execute_result"
    }
   ],
   "source": [
    "32 * 32 * 3"
   ]
  },
  {
   "cell_type": "code",
   "execution_count": 10,
   "metadata": {},
   "outputs": [],
   "source": [
    "# IMG_SIZE = 80\n",
    "\n",
    "# epochs = 5\n",
    "# step_size = 8\n",
    "# IMG_SIZE_ALEXNET = 227\n",
    "# validating_size = 40\n",
    "# nodes_fc1 = 4096\n",
    "# nodes_fc2 = 4096\n",
    "# output_classes = 4\n"
   ]
  },
  {
   "cell_type": "code",
   "execution_count": 11,
   "metadata": {},
   "outputs": [],
   "source": [
    "#Resetting graph\n",
    "tf.reset_default_graph()\n",
    "\n",
    "#Defining Placeholders\n",
    "# x = tf.placeholder(tf.float32,shape=[None,227,227,3])\n",
    "x = tf.placeholder(tf.float32,shape=[None,32,32,3])\n",
    "y_true = tf.placeholder(tf.float32,shape=[None,3])"
   ]
  },
  {
   "cell_type": "code",
   "execution_count": 44,
   "metadata": {},
   "outputs": [
    {
     "name": "stdout",
     "output_type": "stream",
     "text": [
      "Tensor(\"Relu_4:0\", shape=(?, 6, 6, 32), dtype=float32)\n"
     ]
    }
   ],
   "source": [
    "##CONVOLUTION LAYER 1\n",
    "#Weights for layer 1\n",
    "w_1 = tf.Variable(tf.truncated_normal([11,11,3,32], stddev=0.01))\n",
    "#Bias for layer 1\n",
    "b_1 = tf.Variable(tf.constant(0.0, shape=[[11,11,3,32][3]]))\n",
    "#Applying convolution\n",
    "c_1 = tf.nn.conv2d(x, w_1,strides=[1, 4, 4, 1], padding='VALID')\n",
    "#Adding bias\n",
    "c_1 = c_1 + b_1\n",
    "#Applying RELU\n",
    "\n",
    "c_2 = tf.nn.batch_normalization(c_1, .2, .02, 1, 1, .00001111)\n",
    "c_1 = tf.nn.relu(c_1)\n",
    "print(c_1)"
   ]
  },
  {
   "cell_type": "code",
   "execution_count": 45,
   "metadata": {},
   "outputs": [
    {
     "name": "stdout",
     "output_type": "stream",
     "text": [
      "Tensor(\"MaxPool_2:0\", shape=(?, 2, 2, 32), dtype=float32)\n"
     ]
    }
   ],
   "source": [
    "##POOLING LAYER1\n",
    "p_1 = tf.nn.max_pool(c_1, ksize=[1, 3, 3, 1],strides=[1, 2, 2, 1], padding='VALID')\n",
    "print(p_1)"
   ]
  },
  {
   "cell_type": "code",
   "execution_count": 46,
   "metadata": {},
   "outputs": [
    {
     "name": "stdout",
     "output_type": "stream",
     "text": [
      "Tensor(\"Relu_5:0\", shape=(?, 2, 2, 64), dtype=float32)\n"
     ]
    }
   ],
   "source": [
    "##CONVOLUTION LAYER 2\n",
    "#Weights for layer 2\n",
    "w_2 = tf.Variable(tf.truncated_normal([5,5,32,64], stddev=0.01))\n",
    "#Bias for layer 2\n",
    "b_2 = tf.Variable(tf.constant(1.0, shape=[[5,5,32,64][3]]))\n",
    "#Applying convolution\n",
    "c_2 = tf.nn.conv2d(p_1, w_2,strides=[1, 1, 1, 1], padding='SAME')\n",
    "#Adding bias\n",
    "c_2 = c_2 + b_2\n",
    "#Applying RELU\n",
    "c_2 = tf.nn.relu(c_2)\n",
    "\n",
    "print(c_2)"
   ]
  },
  {
   "cell_type": "code",
   "execution_count": 47,
   "metadata": {},
   "outputs": [
    {
     "name": "stdout",
     "output_type": "stream",
     "text": [
      "Tensor(\"MaxPool_3:0\", shape=(?, 1, 1, 64), dtype=float32)\n"
     ]
    }
   ],
   "source": [
    "##POOLING LAYER2\n",
    "p_2 = tf.nn.max_pool(c_2, ksize=[1, 2, 2, 1],strides=[1, 2, 2, 1], padding='VALID')\n",
    "print(p_2)"
   ]
  },
  {
   "cell_type": "code",
   "execution_count": 48,
   "metadata": {},
   "outputs": [],
   "source": [
    "#     layer_shape = layer.get_shape()\n",
    "#     num_features = layer_shape[1:4].num_elements()\n",
    "#     layer = tf.reshape(layer, [-1, num_features])"
   ]
  },
  {
   "cell_type": "code",
   "execution_count": 49,
   "metadata": {},
   "outputs": [],
   "source": [
    "# flattened = tf.reshape(p_3,[-1,6*6*256])\n",
    "\n",
    "num_features  = 3\n",
    "layer_shape = p_2.get_shape()\n",
    "num_features = layer_shape[1:4].num_elements()\n",
    "flattened = tf.reshape(p_2, [-1, num_features])\n",
    "# print(flattened)"
   ]
  },
  {
   "cell_type": "code",
   "execution_count": 50,
   "metadata": {},
   "outputs": [],
   "source": [
    "input_size = int( flattened.get_shape()[1] )\n",
    "#Weights for FC Layer 1\n",
    "w1_fc = tf.Variable(tf.truncated_normal([input_size, 30], stddev=0.01))\n",
    "#Bias for FC Layer 1\n",
    "b1_fc = tf.Variable( tf.constant(1.0, shape=[30] ) )\n",
    "#Summing Matrix calculations and bias\n",
    "s_fc1 = tf.matmul(flattened, w1_fc) + b1_fc\n",
    "#Applying RELU\n",
    "s_fc1 = tf.nn.relu(s_fc1)"
   ]
  },
  {
   "cell_type": "code",
   "execution_count": 51,
   "metadata": {},
   "outputs": [
    {
     "name": "stdout",
     "output_type": "stream",
     "text": [
      "Tensor(\"dropout_2/mul:0\", shape=(?, 30), dtype=float32)\n"
     ]
    }
   ],
   "source": [
    "# #Dropout Layer 1\n",
    "hold_prob1 = tf.placeholder(tf.float32)\n",
    "s_fc1 = tf.nn.dropout(s_fc1,keep_prob=hold_prob1)\n",
    "print(s_fc1)"
   ]
  },
  {
   "cell_type": "code",
   "execution_count": 52,
   "metadata": {},
   "outputs": [
    {
     "name": "stdout",
     "output_type": "stream",
     "text": [
      "Tensor(\"Relu_7:0\", shape=(?, 50), dtype=float32)\n"
     ]
    }
   ],
   "source": [
    "##Fully Connected Layer 2\n",
    "#Weights for FC Layer 2\n",
    "w2_fc = tf.Variable(tf.truncated_normal([30, 50], stddev=0.01))\n",
    "#Bias for FC Layer 2\n",
    "b2_fc = tf.Variable( tf.constant(1.0, shape=[50] ) )\n",
    "#Summing Matrix calculations and bias\n",
    "s_fc2 = tf.matmul(s_fc1, w2_fc) + b2_fc\n",
    "#Applying RELU\n",
    "s_fc2 = tf.nn.relu(s_fc2)\n",
    "print(s_fc2)"
   ]
  },
  {
   "cell_type": "code",
   "execution_count": 53,
   "metadata": {},
   "outputs": [],
   "source": [
    "#Dropout Layer 2\n",
    "hold_prob2 = tf.placeholder(tf.float32)\n",
    "s_fc2 = tf.nn.dropout(s_fc2,keep_prob=hold_prob1)"
   ]
  },
  {
   "cell_type": "code",
   "execution_count": 54,
   "metadata": {},
   "outputs": [
    {
     "name": "stdout",
     "output_type": "stream",
     "text": [
      "Tensor(\"add_10:0\", shape=(?, 3), dtype=float32)\n"
     ]
    }
   ],
   "source": [
    "##Fully Connected Layer 3\n",
    "#Weights for FC Layer 3\n",
    "w3_fc = tf.Variable(tf.truncated_normal([50,3], stddev=0.01))\n",
    "#Bias for FC Layer 3b3_fc = tf.Variable( tf.constant(1.0, shape=[output_classes] ) )\n",
    "b3_fc = tf.Variable( tf.constant(1.0, shape=[3] ) )\n",
    "#Summing Matrix calculations and bias\n",
    "y_pred = tf.matmul(s_fc2, w3_fc) + b3_fc\n",
    "#Applying RELU\n",
    "print(y_pred)"
   ]
  },
  {
   "cell_type": "code",
   "execution_count": 55,
   "metadata": {},
   "outputs": [],
   "source": [
    "#Defining loss function\n",
    "\n",
    "cross_entropy = tf.reduce_mean(tf.nn.softmax_cross_entropy_with_logits_v2(labels=y_true,logits=y_pred))\n",
    "\n",
    "#Defining objective\n",
    "train = tf.train.AdamOptimizer(learning_rate=0.00001).minimize(cross_entropy)\n",
    "\n",
    "#Defining Accuracy\n",
    "matches = tf.equal(tf.argmax(y_pred,1),tf.argmax(y_true,1))\n",
    "acc = tf.reduce_mean(tf.cast(matches,tf.float32))\n",
    "\n",
    "#Initializing weights\n",
    "init = tf.global_variables_initializer()"
   ]
  },
  {
   "cell_type": "code",
   "execution_count": 56,
   "metadata": {},
   "outputs": [],
   "source": [
    "# with tf.Session() as sess:\n",
    "#     sess.run(tf.global_variables_initializer())\n",
    "\n",
    "#     for i in range(30):\n",
    "# #         batch = mnist.train.next_batch(50)\n",
    "#         idx = np.random.choice(np.arange(len(trainX)), 100, replace=False)\n",
    "#         x_sample = trainX[idx]\n",
    "#         print (x_sample[1])\n",
    "#         y_sample = trainY[idx]\n",
    "#         print (y_sample[1])\n",
    "\n",
    "# #         if i % 100 == 0:\n",
    "# #             train_accuracy = sess.run(acc, feed_dict={x: x_sample, \n",
    "# #                                                            y_true: y_sample,\n",
    "# #                                                            hold_prob1:0.5,hold_prob2:0.5})\n",
    "# #             print (\"step {}, training accuracy {}\".format(i, train_accuracy))\n",
    "\n",
    "#         sess.run(train, feed_dict={x: x_sample, y_true: y_sample,\n",
    "#                                         hold_prob1:0.5,hold_prob2:0.5})\n",
    "#         print (\"step {}, training accuracy {}\".format(i, train_accuracy))\n",
    "\n",
    "# #     X = mnist.test.images.reshape(10, 1000, 784)\n",
    "# #     Y = mnist.test.labels.reshape(10, 1000, 10)\n",
    "#     test_accuracy = np.mean([sess.run(acc, \n",
    "#                              feed_dict={x:testX, y_true:testY,hold_prob1:1.0,hold_prob2:1.0})\n",
    "#                              for i in range(10)])\n",
    "\n",
    "# print (\"test accuracy: {}\".format(test_accuracy))\n",
    "\n"
   ]
  },
  {
   "cell_type": "code",
   "execution_count": 57,
   "metadata": {},
   "outputs": [
    {
     "data": {
      "text/plain": [
       "(2250, 32, 32, 3)"
      ]
     },
     "execution_count": 57,
     "metadata": {},
     "output_type": "execute_result"
    }
   ],
   "source": [
    "trainX.shape"
   ]
  },
  {
   "cell_type": "code",
   "execution_count": 58,
   "metadata": {},
   "outputs": [
    {
     "data": {
      "text/plain": [
       "(2250, 3)"
      ]
     },
     "execution_count": 58,
     "metadata": {},
     "output_type": "execute_result"
    }
   ],
   "source": [
    "trainY.shape"
   ]
  },
  {
   "cell_type": "code",
   "execution_count": 59,
   "metadata": {},
   "outputs": [],
   "source": [
    "# concate_train = np.concatenate((trainX,trainY),axis=0)"
   ]
  },
  {
   "cell_type": "code",
   "execution_count": 60,
   "metadata": {},
   "outputs": [
    {
     "name": "stdout",
     "output_type": "stream",
     "text": [
      "0\n",
      "step 0, training accuracy 0.2199999988079071\n",
      "test accuracy: 0.3314666748046875\n",
      "1\n",
      "step 1, training accuracy 0.25999999046325684\n",
      "test accuracy: 0.3282666504383087\n",
      "2\n",
      "step 2, training accuracy 0.3400000035762787\n",
      "test accuracy: 0.3333333134651184\n",
      "3\n",
      "step 3, training accuracy 0.4399999976158142\n",
      "test accuracy: 0.3352000117301941\n",
      "4\n",
      "step 4, training accuracy 0.2800000011920929\n",
      "test accuracy: 0.3330666422843933\n",
      "5\n",
      "step 5, training accuracy 0.3400000035762787\n",
      "test accuracy: 0.33266669511795044\n",
      "6\n",
      "step 6, training accuracy 0.4000000059604645\n",
      "test accuracy: 0.3274666666984558\n",
      "7\n",
      "step 7, training accuracy 0.3799999952316284\n",
      "test accuracy: 0.3277333378791809\n",
      "8\n",
      "step 8, training accuracy 0.20000000298023224\n",
      "test accuracy: 0.3258666694164276\n",
      "9\n",
      "step 9, training accuracy 0.2199999988079071\n",
      "test accuracy: 0.33133330941200256\n",
      "10\n",
      "step 10, training accuracy 0.2800000011920929\n",
      "test accuracy: 0.3293333649635315\n",
      "11\n",
      "step 11, training accuracy 0.3199999928474426\n",
      "test accuracy: 0.3319999873638153\n",
      "12\n",
      "step 12, training accuracy 0.30000001192092896\n",
      "test accuracy: 0.3301333487033844\n",
      "13\n",
      "step 13, training accuracy 0.4000000059604645\n",
      "test accuracy: 0.33026665449142456\n",
      "14\n",
      "step 14, training accuracy 0.3400000035762787\n",
      "test accuracy: 0.3298666775226593\n",
      "15\n",
      "step 15, training accuracy 0.3199999928474426\n",
      "test accuracy: 0.33266663551330566\n",
      "16\n",
      "step 16, training accuracy 0.3199999928474426\n",
      "test accuracy: 0.3285333514213562\n",
      "17\n",
      "step 17, training accuracy 0.36000001430511475\n",
      "test accuracy: 0.32733333110809326\n",
      "18\n",
      "step 18, training accuracy 0.3199999928474426\n",
      "test accuracy: 0.33293333649635315\n",
      "19\n",
      "step 19, training accuracy 0.4000000059604645\n",
      "test accuracy: 0.3312000036239624\n",
      "20\n",
      "step 20, training accuracy 0.36000001430511475\n",
      "test accuracy: 0.3317333161830902\n",
      "21\n",
      "step 21, training accuracy 0.25999999046325684\n",
      "test accuracy: 0.33373332023620605\n",
      "22\n",
      "step 22, training accuracy 0.4399999976158142\n",
      "test accuracy: 0.33133333921432495\n",
      "23\n",
      "step 23, training accuracy 0.3400000035762787\n",
      "test accuracy: 0.3354666829109192\n",
      "24\n",
      "step 24, training accuracy 0.2800000011920929\n",
      "test accuracy: 0.3296000063419342\n",
      "25\n",
      "step 25, training accuracy 0.30000001192092896\n",
      "test accuracy: 0.33320000767707825\n",
      "26\n",
      "step 26, training accuracy 0.41999998688697815\n",
      "test accuracy: 0.3298666775226593\n",
      "27\n",
      "step 27, training accuracy 0.30000001192092896\n",
      "test accuracy: 0.33160001039505005\n",
      "28\n",
      "step 28, training accuracy 0.3400000035762787\n",
      "test accuracy: 0.3279999792575836\n",
      "29\n",
      "step 29, training accuracy 0.3799999952316284\n",
      "test accuracy: 0.32520002126693726\n",
      "30\n",
      "step 30, training accuracy 0.25999999046325684\n",
      "test accuracy: 0.33026668429374695\n",
      "31\n",
      "step 31, training accuracy 0.2199999988079071\n",
      "test accuracy: 0.3298666477203369\n",
      "32\n",
      "step 32, training accuracy 0.3400000035762787\n",
      "test accuracy: 0.33079999685287476\n",
      "33\n",
      "step 33, training accuracy 0.4000000059604645\n",
      "test accuracy: 0.3253333270549774\n",
      "34\n",
      "step 34, training accuracy 0.30000001192092896\n",
      "test accuracy: 0.32973331212997437\n",
      "35\n",
      "step 35, training accuracy 0.36000001430511475\n",
      "test accuracy: 0.3317333459854126\n",
      "36\n",
      "step 36, training accuracy 0.3199999928474426\n",
      "test accuracy: 0.33640000224113464\n",
      "37\n",
      "step 37, training accuracy 0.36000001430511475\n",
      "test accuracy: 0.32919999957084656\n",
      "38\n",
      "step 38, training accuracy 0.25999999046325684\n",
      "test accuracy: 0.3319999873638153\n",
      "39\n",
      "step 39, training accuracy 0.41999998688697815\n",
      "test accuracy: 0.33586668968200684\n",
      "40\n",
      "step 40, training accuracy 0.3799999952316284\n",
      "test accuracy: 0.33426669239997864\n",
      "41\n",
      "step 41, training accuracy 0.46000000834465027\n",
      "test accuracy: 0.33266666531562805\n",
      "42\n",
      "step 42, training accuracy 0.3400000035762787\n",
      "test accuracy: 0.33266663551330566\n",
      "43\n",
      "step 43, training accuracy 0.3799999952316284\n",
      "test accuracy: 0.3333333432674408\n",
      "44\n",
      "step 44, training accuracy 0.3199999928474426\n",
      "test accuracy: 0.334933340549469\n",
      "45\n",
      "step 45, training accuracy nan\n",
      "test accuracy: 0.3375999927520752\n",
      "46\n",
      "step 46, training accuracy nan\n",
      "test accuracy: 0.3330666422843933\n",
      "47\n",
      "step 47, training accuracy nan\n",
      "test accuracy: 0.334933340549469\n",
      "48\n",
      "step 48, training accuracy nan\n",
      "test accuracy: 0.32946664094924927\n",
      "49\n",
      "step 49, training accuracy nan\n",
      "test accuracy: 0.33799996972084045\n",
      "50\n",
      "step 50, training accuracy nan\n",
      "test accuracy: 0.33186668157577515\n",
      "51\n",
      "step 51, training accuracy nan\n",
      "test accuracy: 0.32919996976852417\n",
      "52\n",
      "step 52, training accuracy nan\n",
      "test accuracy: 0.33079999685287476\n",
      "53\n",
      "step 53, training accuracy nan\n",
      "test accuracy: 0.33133333921432495\n",
      "54\n",
      "step 54, training accuracy nan\n"
     ]
    },
    {
     "ename": "KeyboardInterrupt",
     "evalue": "",
     "output_type": "error",
     "traceback": [
      "\u001b[1;31m---------------------------------------------------------------------------\u001b[0m",
      "\u001b[1;31mKeyboardInterrupt\u001b[0m                         Traceback (most recent call last)",
      "\u001b[1;32m<ipython-input-60-c6f6491c2ef0>\u001b[0m in \u001b[0;36m<module>\u001b[1;34m()\u001b[0m\n\u001b[0;32m     15\u001b[0m         \u001b[0mprint\u001b[0m \u001b[1;33m(\u001b[0m\u001b[1;34m\"step {}, training accuracy {}\"\u001b[0m\u001b[1;33m.\u001b[0m\u001b[0mformat\u001b[0m\u001b[1;33m(\u001b[0m\u001b[0mn\u001b[0m\u001b[1;33m,\u001b[0m \u001b[0mtrain_accuracy\u001b[0m\u001b[1;33m)\u001b[0m\u001b[1;33m)\u001b[0m\u001b[1;33m\u001b[0m\u001b[0m\n\u001b[0;32m     16\u001b[0m \u001b[1;33m\u001b[0m\u001b[0m\n\u001b[1;32m---> 17\u001b[1;33m         \u001b[0mtest_accuracy\u001b[0m \u001b[1;33m=\u001b[0m \u001b[0mnp\u001b[0m\u001b[1;33m.\u001b[0m\u001b[0mmean\u001b[0m\u001b[1;33m(\u001b[0m\u001b[1;33m[\u001b[0m\u001b[0msess\u001b[0m\u001b[1;33m.\u001b[0m\u001b[0mrun\u001b[0m\u001b[1;33m(\u001b[0m\u001b[0macc\u001b[0m\u001b[1;33m,\u001b[0m \u001b[0mfeed_dict\u001b[0m\u001b[1;33m=\u001b[0m\u001b[1;33m{\u001b[0m\u001b[0mx\u001b[0m\u001b[1;33m:\u001b[0m\u001b[0mtestX\u001b[0m\u001b[1;33m,\u001b[0m \u001b[0my_true\u001b[0m\u001b[1;33m:\u001b[0m\u001b[0mtestY\u001b[0m\u001b[1;33m,\u001b[0m\u001b[0mhold_prob1\u001b[0m\u001b[1;33m:\u001b[0m\u001b[1;36m0.7\u001b[0m\u001b[1;33m,\u001b[0m\u001b[0mhold_prob2\u001b[0m\u001b[1;33m:\u001b[0m\u001b[1;36m0.8\u001b[0m\u001b[1;33m}\u001b[0m\u001b[1;33m)\u001b[0m\u001b[1;32mfor\u001b[0m \u001b[0mi\u001b[0m \u001b[1;32min\u001b[0m \u001b[0mrange\u001b[0m\u001b[1;33m(\u001b[0m\u001b[1;36m10\u001b[0m\u001b[1;33m)\u001b[0m\u001b[1;33m]\u001b[0m\u001b[1;33m)\u001b[0m\u001b[1;33m\u001b[0m\u001b[0m\n\u001b[0m\u001b[0;32m     18\u001b[0m \u001b[1;33m\u001b[0m\u001b[0m\n\u001b[0;32m     19\u001b[0m \u001b[1;33m\u001b[0m\u001b[0m\n",
      "\u001b[1;32m<ipython-input-60-c6f6491c2ef0>\u001b[0m in \u001b[0;36m<listcomp>\u001b[1;34m(.0)\u001b[0m\n\u001b[0;32m     15\u001b[0m         \u001b[0mprint\u001b[0m \u001b[1;33m(\u001b[0m\u001b[1;34m\"step {}, training accuracy {}\"\u001b[0m\u001b[1;33m.\u001b[0m\u001b[0mformat\u001b[0m\u001b[1;33m(\u001b[0m\u001b[0mn\u001b[0m\u001b[1;33m,\u001b[0m \u001b[0mtrain_accuracy\u001b[0m\u001b[1;33m)\u001b[0m\u001b[1;33m)\u001b[0m\u001b[1;33m\u001b[0m\u001b[0m\n\u001b[0;32m     16\u001b[0m \u001b[1;33m\u001b[0m\u001b[0m\n\u001b[1;32m---> 17\u001b[1;33m         \u001b[0mtest_accuracy\u001b[0m \u001b[1;33m=\u001b[0m \u001b[0mnp\u001b[0m\u001b[1;33m.\u001b[0m\u001b[0mmean\u001b[0m\u001b[1;33m(\u001b[0m\u001b[1;33m[\u001b[0m\u001b[0msess\u001b[0m\u001b[1;33m.\u001b[0m\u001b[0mrun\u001b[0m\u001b[1;33m(\u001b[0m\u001b[0macc\u001b[0m\u001b[1;33m,\u001b[0m \u001b[0mfeed_dict\u001b[0m\u001b[1;33m=\u001b[0m\u001b[1;33m{\u001b[0m\u001b[0mx\u001b[0m\u001b[1;33m:\u001b[0m\u001b[0mtestX\u001b[0m\u001b[1;33m,\u001b[0m \u001b[0my_true\u001b[0m\u001b[1;33m:\u001b[0m\u001b[0mtestY\u001b[0m\u001b[1;33m,\u001b[0m\u001b[0mhold_prob1\u001b[0m\u001b[1;33m:\u001b[0m\u001b[1;36m0.7\u001b[0m\u001b[1;33m,\u001b[0m\u001b[0mhold_prob2\u001b[0m\u001b[1;33m:\u001b[0m\u001b[1;36m0.8\u001b[0m\u001b[1;33m}\u001b[0m\u001b[1;33m)\u001b[0m\u001b[1;32mfor\u001b[0m \u001b[0mi\u001b[0m \u001b[1;32min\u001b[0m \u001b[0mrange\u001b[0m\u001b[1;33m(\u001b[0m\u001b[1;36m10\u001b[0m\u001b[1;33m)\u001b[0m\u001b[1;33m]\u001b[0m\u001b[1;33m)\u001b[0m\u001b[1;33m\u001b[0m\u001b[0m\n\u001b[0m\u001b[0;32m     18\u001b[0m \u001b[1;33m\u001b[0m\u001b[0m\n\u001b[0;32m     19\u001b[0m \u001b[1;33m\u001b[0m\u001b[0m\n",
      "\u001b[1;32mC:\\Anaconda_install\\lib\\site-packages\\tensorflow\\python\\client\\session.py\u001b[0m in \u001b[0;36mrun\u001b[1;34m(self, fetches, feed_dict, options, run_metadata)\u001b[0m\n\u001b[0;32m    885\u001b[0m     \u001b[1;32mtry\u001b[0m\u001b[1;33m:\u001b[0m\u001b[1;33m\u001b[0m\u001b[0m\n\u001b[0;32m    886\u001b[0m       result = self._run(None, fetches, feed_dict, options_ptr,\n\u001b[1;32m--> 887\u001b[1;33m                          run_metadata_ptr)\n\u001b[0m\u001b[0;32m    888\u001b[0m       \u001b[1;32mif\u001b[0m \u001b[0mrun_metadata\u001b[0m\u001b[1;33m:\u001b[0m\u001b[1;33m\u001b[0m\u001b[0m\n\u001b[0;32m    889\u001b[0m         \u001b[0mproto_data\u001b[0m \u001b[1;33m=\u001b[0m \u001b[0mtf_session\u001b[0m\u001b[1;33m.\u001b[0m\u001b[0mTF_GetBuffer\u001b[0m\u001b[1;33m(\u001b[0m\u001b[0mrun_metadata_ptr\u001b[0m\u001b[1;33m)\u001b[0m\u001b[1;33m\u001b[0m\u001b[0m\n",
      "\u001b[1;32mC:\\Anaconda_install\\lib\\site-packages\\tensorflow\\python\\client\\session.py\u001b[0m in \u001b[0;36m_run\u001b[1;34m(self, handle, fetches, feed_dict, options, run_metadata)\u001b[0m\n\u001b[0;32m   1108\u001b[0m     \u001b[1;32mif\u001b[0m \u001b[0mfinal_fetches\u001b[0m \u001b[1;32mor\u001b[0m \u001b[0mfinal_targets\u001b[0m \u001b[1;32mor\u001b[0m \u001b[1;33m(\u001b[0m\u001b[0mhandle\u001b[0m \u001b[1;32mand\u001b[0m \u001b[0mfeed_dict_tensor\u001b[0m\u001b[1;33m)\u001b[0m\u001b[1;33m:\u001b[0m\u001b[1;33m\u001b[0m\u001b[0m\n\u001b[0;32m   1109\u001b[0m       results = self._do_run(handle, final_targets, final_fetches,\n\u001b[1;32m-> 1110\u001b[1;33m                              feed_dict_tensor, options, run_metadata)\n\u001b[0m\u001b[0;32m   1111\u001b[0m     \u001b[1;32melse\u001b[0m\u001b[1;33m:\u001b[0m\u001b[1;33m\u001b[0m\u001b[0m\n\u001b[0;32m   1112\u001b[0m       \u001b[0mresults\u001b[0m \u001b[1;33m=\u001b[0m \u001b[1;33m[\u001b[0m\u001b[1;33m]\u001b[0m\u001b[1;33m\u001b[0m\u001b[0m\n",
      "\u001b[1;32mC:\\Anaconda_install\\lib\\site-packages\\tensorflow\\python\\client\\session.py\u001b[0m in \u001b[0;36m_do_run\u001b[1;34m(self, handle, target_list, fetch_list, feed_dict, options, run_metadata)\u001b[0m\n\u001b[0;32m   1284\u001b[0m     \u001b[1;32mif\u001b[0m \u001b[0mhandle\u001b[0m \u001b[1;32mis\u001b[0m \u001b[1;32mNone\u001b[0m\u001b[1;33m:\u001b[0m\u001b[1;33m\u001b[0m\u001b[0m\n\u001b[0;32m   1285\u001b[0m       return self._do_call(_run_fn, feeds, fetches, targets, options,\n\u001b[1;32m-> 1286\u001b[1;33m                            run_metadata)\n\u001b[0m\u001b[0;32m   1287\u001b[0m     \u001b[1;32melse\u001b[0m\u001b[1;33m:\u001b[0m\u001b[1;33m\u001b[0m\u001b[0m\n\u001b[0;32m   1288\u001b[0m       \u001b[1;32mreturn\u001b[0m \u001b[0mself\u001b[0m\u001b[1;33m.\u001b[0m\u001b[0m_do_call\u001b[0m\u001b[1;33m(\u001b[0m\u001b[0m_prun_fn\u001b[0m\u001b[1;33m,\u001b[0m \u001b[0mhandle\u001b[0m\u001b[1;33m,\u001b[0m \u001b[0mfeeds\u001b[0m\u001b[1;33m,\u001b[0m \u001b[0mfetches\u001b[0m\u001b[1;33m)\u001b[0m\u001b[1;33m\u001b[0m\u001b[0m\n",
      "\u001b[1;32mC:\\Anaconda_install\\lib\\site-packages\\tensorflow\\python\\client\\session.py\u001b[0m in \u001b[0;36m_do_call\u001b[1;34m(self, fn, *args)\u001b[0m\n\u001b[0;32m   1290\u001b[0m   \u001b[1;32mdef\u001b[0m \u001b[0m_do_call\u001b[0m\u001b[1;33m(\u001b[0m\u001b[0mself\u001b[0m\u001b[1;33m,\u001b[0m \u001b[0mfn\u001b[0m\u001b[1;33m,\u001b[0m \u001b[1;33m*\u001b[0m\u001b[0margs\u001b[0m\u001b[1;33m)\u001b[0m\u001b[1;33m:\u001b[0m\u001b[1;33m\u001b[0m\u001b[0m\n\u001b[0;32m   1291\u001b[0m     \u001b[1;32mtry\u001b[0m\u001b[1;33m:\u001b[0m\u001b[1;33m\u001b[0m\u001b[0m\n\u001b[1;32m-> 1292\u001b[1;33m       \u001b[1;32mreturn\u001b[0m \u001b[0mfn\u001b[0m\u001b[1;33m(\u001b[0m\u001b[1;33m*\u001b[0m\u001b[0margs\u001b[0m\u001b[1;33m)\u001b[0m\u001b[1;33m\u001b[0m\u001b[0m\n\u001b[0m\u001b[0;32m   1293\u001b[0m     \u001b[1;32mexcept\u001b[0m \u001b[0merrors\u001b[0m\u001b[1;33m.\u001b[0m\u001b[0mOpError\u001b[0m \u001b[1;32mas\u001b[0m \u001b[0me\u001b[0m\u001b[1;33m:\u001b[0m\u001b[1;33m\u001b[0m\u001b[0m\n\u001b[0;32m   1294\u001b[0m       \u001b[0mmessage\u001b[0m \u001b[1;33m=\u001b[0m \u001b[0mcompat\u001b[0m\u001b[1;33m.\u001b[0m\u001b[0mas_text\u001b[0m\u001b[1;33m(\u001b[0m\u001b[0me\u001b[0m\u001b[1;33m.\u001b[0m\u001b[0mmessage\u001b[0m\u001b[1;33m)\u001b[0m\u001b[1;33m\u001b[0m\u001b[0m\n",
      "\u001b[1;32mC:\\Anaconda_install\\lib\\site-packages\\tensorflow\\python\\client\\session.py\u001b[0m in \u001b[0;36m_run_fn\u001b[1;34m(feed_dict, fetch_list, target_list, options, run_metadata)\u001b[0m\n\u001b[0;32m   1275\u001b[0m       \u001b[0mself\u001b[0m\u001b[1;33m.\u001b[0m\u001b[0m_extend_graph\u001b[0m\u001b[1;33m(\u001b[0m\u001b[1;33m)\u001b[0m\u001b[1;33m\u001b[0m\u001b[0m\n\u001b[0;32m   1276\u001b[0m       return self._call_tf_sessionrun(\n\u001b[1;32m-> 1277\u001b[1;33m           options, feed_dict, fetch_list, target_list, run_metadata)\n\u001b[0m\u001b[0;32m   1278\u001b[0m \u001b[1;33m\u001b[0m\u001b[0m\n\u001b[0;32m   1279\u001b[0m     \u001b[1;32mdef\u001b[0m \u001b[0m_prun_fn\u001b[0m\u001b[1;33m(\u001b[0m\u001b[0mhandle\u001b[0m\u001b[1;33m,\u001b[0m \u001b[0mfeed_dict\u001b[0m\u001b[1;33m,\u001b[0m \u001b[0mfetch_list\u001b[0m\u001b[1;33m)\u001b[0m\u001b[1;33m:\u001b[0m\u001b[1;33m\u001b[0m\u001b[0m\n",
      "\u001b[1;32mC:\\Anaconda_install\\lib\\site-packages\\tensorflow\\python\\client\\session.py\u001b[0m in \u001b[0;36m_call_tf_sessionrun\u001b[1;34m(self, options, feed_dict, fetch_list, target_list, run_metadata)\u001b[0m\n\u001b[0;32m   1365\u001b[0m     return tf_session.TF_SessionRun_wrapper(\n\u001b[0;32m   1366\u001b[0m         \u001b[0mself\u001b[0m\u001b[1;33m.\u001b[0m\u001b[0m_session\u001b[0m\u001b[1;33m,\u001b[0m \u001b[0moptions\u001b[0m\u001b[1;33m,\u001b[0m \u001b[0mfeed_dict\u001b[0m\u001b[1;33m,\u001b[0m \u001b[0mfetch_list\u001b[0m\u001b[1;33m,\u001b[0m \u001b[0mtarget_list\u001b[0m\u001b[1;33m,\u001b[0m\u001b[1;33m\u001b[0m\u001b[0m\n\u001b[1;32m-> 1367\u001b[1;33m         run_metadata)\n\u001b[0m\u001b[0;32m   1368\u001b[0m \u001b[1;33m\u001b[0m\u001b[0m\n\u001b[0;32m   1369\u001b[0m   \u001b[1;32mdef\u001b[0m \u001b[0m_call_tf_sessionprun\u001b[0m\u001b[1;33m(\u001b[0m\u001b[0mself\u001b[0m\u001b[1;33m,\u001b[0m \u001b[0mhandle\u001b[0m\u001b[1;33m,\u001b[0m \u001b[0mfeed_dict\u001b[0m\u001b[1;33m,\u001b[0m \u001b[0mfetch_list\u001b[0m\u001b[1;33m)\u001b[0m\u001b[1;33m:\u001b[0m\u001b[1;33m\u001b[0m\u001b[0m\n",
      "\u001b[1;31mKeyboardInterrupt\u001b[0m: "
     ]
    }
   ],
   "source": [
    "# sess.run(tf.initialize_all_variables())\n",
    "\n",
    "batch_size = 50\n",
    "\n",
    "with tf.Session() as sess:\n",
    "    sess.run(tf.global_variables_initializer())\n",
    "    \n",
    "    for n in range( 300 ):\n",
    "        print(n)\n",
    "        batch_x = trainX[ n*batch_size : (n+1)*batch_size ]\n",
    "        batch_y = trainY[ n*batch_size : (n+1)*batch_size ]\n",
    "        train_accuracy = sess.run(acc, feed_dict={x: batch_x, \n",
    "                                                  y_true: batch_y,\n",
    "                                                  hold_prob1:0.7,hold_prob2:0.7})\n",
    "        print (\"step {}, training accuracy {}\".format(n, train_accuracy))\n",
    "        \n",
    "        test_accuracy = np.mean([sess.run(acc, feed_dict={x:testX, y_true:testY,hold_prob1:0.7,hold_prob2:0.8})for i in range(10)])\n",
    "\n",
    "\n",
    "        print(\"test accuracy: {}\".format(test_accuracy))\n"
   ]
  },
  {
   "cell_type": "code",
   "execution_count": 25,
   "metadata": {},
   "outputs": [],
   "source": []
  },
  {
   "cell_type": "code",
   "execution_count": null,
   "metadata": {},
   "outputs": [],
   "source": []
  },
  {
   "cell_type": "code",
   "execution_count": 31,
   "metadata": {},
   "outputs": [
    {
     "ename": "TypeError",
     "evalue": "float() argument must be a string or a number, not 'function'",
     "output_type": "error",
     "traceback": [
      "\u001b[1;31m---------------------------------------------------------------------------\u001b[0m",
      "\u001b[1;31mTypeError\u001b[0m                                 Traceback (most recent call last)",
      "\u001b[1;32m<ipython-input-31-32f19c4f06d2>\u001b[0m in \u001b[0;36m<module>\u001b[1;34m()\u001b[0m\n\u001b[0;32m      7\u001b[0m \u001b[1;33m\u001b[0m\u001b[0m\n\u001b[0;32m      8\u001b[0m         sess.run(train, feed_dict={x: train_input_fn, y_true: train_iterator_initializer_hook,\n\u001b[1;32m----> 9\u001b[1;33m                                         hold_prob1:0.5,hold_prob2:0.5})\n\u001b[0m\u001b[0;32m     10\u001b[0m         \u001b[0mprint\u001b[0m \u001b[1;33m(\u001b[0m\u001b[1;34m\"step {}, training accuracy {}\"\u001b[0m\u001b[1;33m.\u001b[0m\u001b[0mformat\u001b[0m\u001b[1;33m(\u001b[0m\u001b[0mi\u001b[0m\u001b[1;33m,\u001b[0m \u001b[0mtrain_accuracy\u001b[0m\u001b[1;33m)\u001b[0m\u001b[1;33m)\u001b[0m\u001b[1;33m\u001b[0m\u001b[0m\n\u001b[0;32m     11\u001b[0m \u001b[1;33m\u001b[0m\u001b[0m\n",
      "\u001b[1;32mC:\\Anaconda_install\\lib\\site-packages\\tensorflow\\python\\client\\session.py\u001b[0m in \u001b[0;36mrun\u001b[1;34m(self, fetches, feed_dict, options, run_metadata)\u001b[0m\n\u001b[0;32m    885\u001b[0m     \u001b[1;32mtry\u001b[0m\u001b[1;33m:\u001b[0m\u001b[1;33m\u001b[0m\u001b[0m\n\u001b[0;32m    886\u001b[0m       result = self._run(None, fetches, feed_dict, options_ptr,\n\u001b[1;32m--> 887\u001b[1;33m                          run_metadata_ptr)\n\u001b[0m\u001b[0;32m    888\u001b[0m       \u001b[1;32mif\u001b[0m \u001b[0mrun_metadata\u001b[0m\u001b[1;33m:\u001b[0m\u001b[1;33m\u001b[0m\u001b[0m\n\u001b[0;32m    889\u001b[0m         \u001b[0mproto_data\u001b[0m \u001b[1;33m=\u001b[0m \u001b[0mtf_session\u001b[0m\u001b[1;33m.\u001b[0m\u001b[0mTF_GetBuffer\u001b[0m\u001b[1;33m(\u001b[0m\u001b[0mrun_metadata_ptr\u001b[0m\u001b[1;33m)\u001b[0m\u001b[1;33m\u001b[0m\u001b[0m\n",
      "\u001b[1;32mC:\\Anaconda_install\\lib\\site-packages\\tensorflow\\python\\client\\session.py\u001b[0m in \u001b[0;36m_run\u001b[1;34m(self, handle, fetches, feed_dict, options, run_metadata)\u001b[0m\n\u001b[0;32m   1077\u001b[0m             \u001b[0mfeed_handles\u001b[0m\u001b[1;33m[\u001b[0m\u001b[0msubfeed_t\u001b[0m\u001b[1;33m]\u001b[0m \u001b[1;33m=\u001b[0m \u001b[0msubfeed_val\u001b[0m\u001b[1;33m\u001b[0m\u001b[0m\n\u001b[0;32m   1078\u001b[0m           \u001b[1;32melse\u001b[0m\u001b[1;33m:\u001b[0m\u001b[1;33m\u001b[0m\u001b[0m\n\u001b[1;32m-> 1079\u001b[1;33m             \u001b[0mnp_val\u001b[0m \u001b[1;33m=\u001b[0m \u001b[0mnp\u001b[0m\u001b[1;33m.\u001b[0m\u001b[0masarray\u001b[0m\u001b[1;33m(\u001b[0m\u001b[0msubfeed_val\u001b[0m\u001b[1;33m,\u001b[0m \u001b[0mdtype\u001b[0m\u001b[1;33m=\u001b[0m\u001b[0msubfeed_dtype\u001b[0m\u001b[1;33m)\u001b[0m\u001b[1;33m\u001b[0m\u001b[0m\n\u001b[0m\u001b[0;32m   1080\u001b[0m \u001b[1;33m\u001b[0m\u001b[0m\n\u001b[0;32m   1081\u001b[0m           if (not is_tensor_handle_feed and\n",
      "\u001b[1;32mC:\\Anaconda_install\\lib\\site-packages\\numpy\\core\\numeric.py\u001b[0m in \u001b[0;36masarray\u001b[1;34m(a, dtype, order)\u001b[0m\n\u001b[0;32m    499\u001b[0m \u001b[1;33m\u001b[0m\u001b[0m\n\u001b[0;32m    500\u001b[0m     \"\"\"\n\u001b[1;32m--> 501\u001b[1;33m     \u001b[1;32mreturn\u001b[0m \u001b[0marray\u001b[0m\u001b[1;33m(\u001b[0m\u001b[0ma\u001b[0m\u001b[1;33m,\u001b[0m \u001b[0mdtype\u001b[0m\u001b[1;33m,\u001b[0m \u001b[0mcopy\u001b[0m\u001b[1;33m=\u001b[0m\u001b[1;32mFalse\u001b[0m\u001b[1;33m,\u001b[0m \u001b[0morder\u001b[0m\u001b[1;33m=\u001b[0m\u001b[0morder\u001b[0m\u001b[1;33m)\u001b[0m\u001b[1;33m\u001b[0m\u001b[0m\n\u001b[0m\u001b[0;32m    502\u001b[0m \u001b[1;33m\u001b[0m\u001b[0m\n\u001b[0;32m    503\u001b[0m \u001b[1;33m\u001b[0m\u001b[0m\n",
      "\u001b[1;31mTypeError\u001b[0m: float() argument must be a string or a number, not 'function'"
     ]
    }
   ],
   "source": [
    "with tf.Session() as sess:\n",
    "    sess.run(tf.global_variables_initializer())\n",
    "    train_input_fn, train_iterator_initializer_hook = get_inputs(trainX, trainY)\n",
    "#     test_input_fn, test_iterator_initializer_hook = get_inputs(testX, testY)\n",
    "    \n",
    "    for i in range(30):\n",
    "\n",
    "        sess.run(train, feed_dict={x: train_input_fn, y_true: train_iterator_initializer_hook,\n",
    "                                        hold_prob1:0.5,hold_prob2:0.5})\n",
    "        print (\"step {}, training accuracy {}\".format(i, train_accuracy))\n",
    "\n",
    "#     X = mnist.test.images.reshape(10, 1000, 784)\n",
    "#     Y = mnist.test.labels.reshape(10, 1000, 10)\n",
    "    test_accuracy = np.mean([sess.run(acc, \n",
    "                             feed_dict={x:testX, y_true:testY,hold_prob1:1.0,hold_prob2:1.0})\n",
    "                             for i in range(10)])\n",
    "\n",
    "print (\"test accuracy: {}\".format(test_accuracy))\n"
   ]
  },
  {
   "cell_type": "code",
   "execution_count": null,
   "metadata": {},
   "outputs": [],
   "source": [
    "# "
   ]
  },
  {
   "cell_type": "code",
   "execution_count": null,
   "metadata": {},
   "outputs": [],
   "source": [
    "with tf.Session() as sess:\n",
    "    sess.run(tf.global_variables_initializer())\n",
    "    \n",
    "    \n",
    "    train_batch, label_batch = tf.train.shuffle_batch([trainX, trainY], enqueue_many=True, batch_size=100, \\\n",
    "                                                      capacity=100, min_after_dequeue=10, allow_smaller_final_batch=True)\n",
    "\n",
    "    for i in range(30):\n",
    "# #         batch = mnist.train.next_batch(50)\n",
    "#         idx = np.random.choice(np.arange(len(trainX)), 100, replace=False)\n",
    "#         x_sample = trainX[idx]\n",
    "#         print (x_sample[1])\n",
    "#         y_sample = trainY[idx]\n",
    "#         print (y_sample[1])\n",
    "\n",
    "#         if i % 100 == 0:\n",
    "        \n",
    "        train_accuracy = sess.run(acc, feed_dict={x: train_batch, \n",
    "                                                           y_true: label_batch,\n",
    "                                                           hold_prob1:0.5,hold_prob2:0.5})\n",
    "        print (\"step {}, training accuracy {}\".format(i, train_accuracy))\n",
    "\n",
    "        sess.run(train, feed_dict={x: train_batch, y_true: label_batch,\n",
    "                                        hold_prob1:0.5,hold_prob2:0.5})\n",
    "        print (\"step {}, training accuracy {}\".format(i, train_accuracy))\n",
    "\n",
    "#     X = mnist.test.images.reshape(10, 1000, 784)\n",
    "#     Y = mnist.test.labels.reshape(10, 1000, 10)\n",
    "    test_accuracy = np.mean([sess.run(acc, \n",
    "                             feed_dict={x:testX, y_true:testY,hold_prob1:1.0,hold_prob2:1.0})\n",
    "                             for i in range(10)])\n",
    "\n",
    "print (\"test accuracy: {}\".format(test_accuracy))\n",
    "\n"
   ]
  },
  {
   "cell_type": "code",
   "execution_count": null,
   "metadata": {},
   "outputs": [],
   "source": []
  },
  {
   "cell_type": "code",
   "execution_count": null,
   "metadata": {},
   "outputs": [],
   "source": []
  },
  {
   "cell_type": "code",
   "execution_count": null,
   "metadata": {},
   "outputs": [],
   "source": [
    "#Starting Empty lists to keep results\n",
    "acc_list = []\n",
    "auc_list = []\n",
    "loss_list = []\n",
    "saver = tf.train.Saver()"
   ]
  },
  {
   "cell_type": "code",
   "execution_count": null,
   "metadata": {},
   "outputs": [],
   "source": [
    "#GPU settings\n",
    "config = tf.ConfigProto(allow_soft_placement=True)\n",
    "config.gpu_options.allow_growth = True\n",
    "config.gpu_options.allocator_type = 'BFC'\n",
    "with tf.Session(config=config) as sess:\n",
    "    sess.run(init)\n",
    "#     for i in range(epochs):\n",
    "#         for j in range(0,steps-remaining,step_size):\n",
    "#             #Feeding step_size-amount data with 0.5 keeping probabilities on DROPOUT LAYERS\n",
    "#             _,c = sess.run([train,cross_entropy],  feed_dict={x:X[j:j+step_size] , y_true:Y[j:j+step_size],hold_prob1:0.5,hold_prob2:0.5})\n",
    "\n",
    "    _,c = sess.run([train,cross_entropy],  feed_dict= { x: trainX , y_true:trainY,hold_prob1:0.5,hold_prob2:0.5})\n",
    "\n",
    "\n",
    "    acc_on_cv,loss_on_cv,preds = sess.run([acc,cross_entropy,tf.nn.softmax(y_pred)],\n",
    "        feed_dict={x:testX ,y_true:testY ,hold_prob1:1.0,hold_prob2:1.0})\n"
   ]
  },
  {
   "cell_type": "code",
   "execution_count": null,
   "metadata": {},
   "outputs": [],
   "source": [
    "#GPU settings\n",
    "config = tf.ConfigProto(allow_soft_placement=True)\n",
    "config.gpu_options.allow_growth = True\n",
    "config.gpu_options.allocator_type = 'BFC'\n",
    "with tf.Session(config=config) as sess:\n",
    "    sess.run(init)\n",
    "# Train the model\n",
    "#     c  = tf.estimator.inputs.numpy_input_fn(\n",
    "#             x={\"x\": trainX},\n",
    "#             y=trainY,\n",
    "#             batch_size=100,\n",
    "#             num_epochs=10,\n",
    "#             shuffle=False)\n",
    "    \n",
    "    \n",
    "    \n",
    "#     eval_input_fn = tf.estimator.inputs.numpy_input_fn(\n",
    "#                     x={\"x\": testX},\n",
    "#                     y=testY,\n",
    "#                     num_epochs=1,\n",
    "#                     shuffle=False)\n",
    "\n",
    "    image_batch, label_batch = tf.train.shuffle_batch(\n",
    "                              [trainX, trainY],\n",
    "                              batch_size=32,\n",
    "                              num_threads=4,\n",
    "                              capacity=50000,\n",
    "                              min_after_dequeue=10000)\n"
   ]
  },
  {
   "cell_type": "code",
   "execution_count": null,
   "metadata": {},
   "outputs": [],
   "source": [
    "image_batch"
   ]
  },
  {
   "cell_type": "code",
   "execution_count": null,
   "metadata": {},
   "outputs": [],
   "source": [
    "dx = tf.data.Dataset.from_tensor_slices(trainX)\n",
    "dy = tf.data.Dataset.from_tensor_slices(trainY)\n",
    "dcomb = tf.data.Dataset.zip((dx, dy)).batch(3)\n",
    "iterator = dcomb.make_initializable_iterator()\n",
    "    # extract an element\n",
    "next_element = iterator.get_next()\n",
    "with tf.Session() as sess:\n",
    "    sess.run(iterator.initializer)\n",
    "    for i in range(15):\n",
    "        val = sess.run(next_element)\n",
    "        print(val)\n",
    "        if (i + 1) % (10 // 3) == 0 and i > 0:\n",
    "            sess.run(iterator.initializer)\n",
    "            \n",
    "            _,c = sess.run([train,cross_entropy],  feed_dict= { x: trainX , y_true:trainY,hold_prob1:0.5,hold_prob2:0.5})\n"
   ]
  },
  {
   "cell_type": "code",
   "execution_count": null,
   "metadata": {},
   "outputs": [],
   "source": [
    "# create the training datasets\n",
    "dx_train = tf.data.Dataset.from_tensor_slices(trainX)\n",
    "# apply a one-hot transformation to each label for use in the neural network\n",
    "dy_train = tf.data.Dataset.from_tensor_slices(trainY)\n",
    "# zip the x and y training data together and shuffle, batch etc.\n",
    "train_dataset = tf.data.Dataset.zip((dx_train, dy_train)).shuffle(500).repeat().batch(30)"
   ]
  },
  {
   "cell_type": "code",
   "execution_count": null,
   "metadata": {},
   "outputs": [],
   "source": [
    "# do the same operations for the validation set\n",
    "dx_valid = tf.data.Dataset.from_tensor_slices(testX)\n",
    "dy_valid = tf.data.Dataset.from_tensor_slices(testY)\n",
    "valid_dataset = tf.data.Dataset.zip((dx_valid, dy_valid)).shuffle(500).repeat().batch(30)"
   ]
  },
  {
   "cell_type": "code",
   "execution_count": null,
   "metadata": {},
   "outputs": [],
   "source": [
    "# create general iterator\n",
    "iterator = tf.data.Iterator.from_structure(train_dataset.output_types,\n",
    "                                               train_dataset.output_shapes)\n",
    "next_element = iterator.get_next()"
   ]
  },
  {
   "cell_type": "code",
   "execution_count": null,
   "metadata": {},
   "outputs": [],
   "source": [
    "#  make datasets that we can initialize separately, but using the same structure via the common iterator\n",
    "training_init_op = iterator.make_initializer(train_dataset)\n",
    "validation_init_op = iterator.make_initializer(valid_dataset)"
   ]
  },
  {
   "cell_type": "code",
   "execution_count": null,
   "metadata": {},
   "outputs": [],
   "source": [
    "init_op = tf.global_variables_initializer()"
   ]
  },
  {
   "cell_type": "code",
   "execution_count": null,
   "metadata": {},
   "outputs": [],
   "source": [
    "# run the training\n",
    "epochs = 600\n",
    "with tf.Session() as sess:\n",
    "    sess.run(init_op)\n",
    "    sess.run(training_init_op)\n",
    "    for i in range(epochs):\n",
    "        l, _, acc_1 = sess.run([cross_entropy, train, acc])\n",
    "        if i % 50 == 0:\n",
    "            print(\"Epoch: {}, loss: {:.3f}, training accuracy: {:.2f}%\".format(i, l, acc * 100))\n",
    "    # now setup the validation run\n",
    "    valid_iters = 100\n",
    "    # re-initialize the iterator, but this time with validation data\n",
    "    sess.run(validation_init_op)\n",
    "    avg_acc = 0\n",
    "    for i in range(valid_iters):\n",
    "        acc_2 = sess.run([acc])\n",
    "        avg_acc += acc_2[0]\n",
    "    print(\"Average validation set accuracy over {} iterations is {:.2f}%\".format(valid_iters,(avg_acc / valid_iters) * 100))"
   ]
  },
  {
   "cell_type": "code",
   "execution_count": null,
   "metadata": {},
   "outputs": [],
   "source": [
    "type(trainX)"
   ]
  },
  {
   "cell_type": "code",
   "execution_count": null,
   "metadata": {},
   "outputs": [],
   "source": [
    "idx = np.random.choice(np.arange(len(trainX)), 1000, replace=False)\n",
    "x_sample = trainX[idx]\n",
    "y_sample = trainY[idx]"
   ]
  },
  {
   "cell_type": "code",
   "execution_count": null,
   "metadata": {},
   "outputs": [],
   "source": []
  },
  {
   "cell_type": "code",
   "execution_count": null,
   "metadata": {},
   "outputs": [],
   "source": [
    "with tf.Session() as sess:\n",
    "    sess.run(tf.global_variables_initializer())\n",
    "\n",
    "    for i in range(30):\n",
    "#         batch = mnist.train.next_batch(50)\n",
    "        idx = np.random.choice(np.arange(len(trainX)), 1000, replace=False)\n",
    "        x_sample = trainX[idx]\n",
    "        y_sample = trainY[idx]\n",
    "\n",
    "        if i % 100 == 0:\n",
    "            train_accuracy = sess.run(acc, feed_dict={x: x_sample, \n",
    "                                                           y_: y_sample,\n",
    "                                                           keep_prob: 0.7})\n",
    "            print \"step {}, training accuracy {}\".format(i, train_accuracy)\n",
    "\n",
    "        sess.run(train, feed_dict={x: x_sample, y_: y_sample,\n",
    "                                        keep_prob: 0.5})\n",
    "\n",
    "#     X = mnist.test.images.reshape(10, 1000, 784)\n",
    "#     Y = mnist.test.labels.reshape(10, 1000, 10)\n",
    "    test_accuracy = np.mean([sess.run(acc, \n",
    "                             feed_dict={x:test_, y_:Y[i],keep_prob:1.0}) \n",
    "                             for i in range(10)])\n",
    "\n",
    "print \"test accuracy: {}\".format(test_accuracy)"
   ]
  },
  {
   "cell_type": "code",
   "execution_count": null,
   "metadata": {},
   "outputs": [],
   "source": []
  },
  {
   "cell_type": "code",
   "execution_count": null,
   "metadata": {},
   "outputs": [],
   "source": []
  },
  {
   "cell_type": "code",
   "execution_count": null,
   "metadata": {},
   "outputs": [],
   "source": []
  },
  {
   "cell_type": "code",
   "execution_count": null,
   "metadata": {},
   "outputs": [],
   "source": []
  },
  {
   "cell_type": "code",
   "execution_count": null,
   "metadata": {},
   "outputs": [],
   "source": [
    "acc_on_cv"
   ]
  },
  {
   "cell_type": "code",
   "execution_count": null,
   "metadata": {},
   "outputs": [],
   "source": [
    "##############################################################################################################################"
   ]
  },
  {
   "cell_type": "code",
   "execution_count": null,
   "metadata": {},
   "outputs": [],
   "source": []
  },
  {
   "cell_type": "code",
   "execution_count": null,
   "metadata": {},
   "outputs": [],
   "source": []
  },
  {
   "cell_type": "code",
   "execution_count": null,
   "metadata": {},
   "outputs": [],
   "source": []
  },
  {
   "cell_type": "code",
   "execution_count": null,
   "metadata": {},
   "outputs": [],
   "source": [
    "def create_weights(shape):\n",
    "    return tf.Variable(tf.truncated_normal(shape, stddev=0.05))\n",
    " \n",
    "def create_biases(size):\n",
    "    return tf.Variable(tf.constant(0.05, shape=[size]))"
   ]
  },
  {
   "cell_type": "code",
   "execution_count": null,
   "metadata": {},
   "outputs": [],
   "source": [
    "\n",
    "def create_convolutional_layer(input,\n",
    "               num_input_channels, \n",
    "               conv_filter_size,        \n",
    "               num_filters):  \n",
    "    \n",
    "    ## We shall define the weights that will be trained using create_weights function.\n",
    "    weights = create_weights(shape=[conv_filter_size, conv_filter_size, num_input_channels, num_filters])\n",
    "    ## We create biases using the create_biases function. These are also trained.\n",
    "    biases = create_biases(num_filters)\n",
    "\n",
    "    ## Creating the convolutional layer\n",
    "    layer = tf.nn.conv2d(input=input,\n",
    "                     filter=weights,\n",
    "                     strides=[1, 1, 1, 1],\n",
    "                     padding='SAME')\n",
    "\n",
    "    layer += biases\n",
    "\n",
    "    ## We shall be using max-pooling.  \n",
    "    layer = tf.nn.max_pool(value=layer,\n",
    "                            ksize=[1, 2, 2, 1],\n",
    "                            strides=[1, 2, 2, 1],\n",
    "                            padding='SAME')\n",
    "    ## Output of pooling is fed to Relu which is the activation function for us.\n",
    "    layer = tf.nn.relu(layer)\n",
    "\n",
    "    return layer"
   ]
  },
  {
   "cell_type": "code",
   "execution_count": null,
   "metadata": {},
   "outputs": [],
   "source": [
    "def create_flatten_layer(layer):\n",
    "    layer_shape = layer.get_shape()\n",
    "    num_features = layer_shape[1:4].num_elements()\n",
    "    layer = tf.reshape(layer, [-1, num_features])\n",
    "\n",
    "    return layer"
   ]
  },
  {
   "cell_type": "code",
   "execution_count": null,
   "metadata": {},
   "outputs": [],
   "source": [
    "\n",
    "def create_fc_layer(input,          \n",
    "             num_inputs,    \n",
    "             num_outputs,\n",
    "             use_relu=True):\n",
    "    \n",
    "    #Let's define trainable weights and biases.\n",
    "    weights = create_weights(shape=[num_inputs, num_outputs])\n",
    "    biases = create_biases(num_outputs)\n",
    "\n",
    "    layer = tf.matmul(input, weights) + biases\n",
    "    if use_relu:\n",
    "        layer = tf.nn.relu(layer)\n",
    "\n",
    "    return layer"
   ]
  },
  {
   "cell_type": "code",
   "execution_count": null,
   "metadata": {},
   "outputs": [],
   "source": [
    "\n",
    "x = tf.placeholder(tf.float32, shape=[None, 32,32,3], name='x')\n",
    "\n",
    "y_true = tf.placeholder(tf.float32, shape=[None, 3], name='y_true')\n",
    "y_true_cls = tf.argmax(y_true, dimension=1)"
   ]
  },
  {
   "cell_type": "code",
   "execution_count": null,
   "metadata": {},
   "outputs": [],
   "source": [
    "num_channels"
   ]
  },
  {
   "cell_type": "code",
   "execution_count": null,
   "metadata": {},
   "outputs": [],
   "source": [
    "\n",
    "layer_conv1 = create_convolutional_layer(input=x,\n",
    "               num_input_channels=num_channels,\n",
    "               conv_filter_size=filter_size_conv1,\n",
    "               num_filters=num_filters_conv1)\n",
    "\n",
    "layer_conv2 = create_convolutional_layer(input=layer_conv1,\n",
    "               num_input_channels=num_filters_conv1,\n",
    "               conv_filter_size=filter_size_conv2,\n",
    "               num_filters=num_filters_conv2)\n",
    "\n",
    "layer_conv3= create_convolutional_layer(input=layer_conv2,\n",
    "               num_input_channels=num_filters_conv2,\n",
    "               conv_filter_size=filter_size_conv3,\n",
    "               num_filters=num_filters_conv3)\n",
    "          \n",
    "layer_flat = create_flatten_layer(layer_conv3)\n",
    "\n",
    "layer_fc1 = create_fc_layer(input=layer_flat,\n",
    "                     num_inputs=layer_flat.get_shape()[1:4].num_elements(),\n",
    "                     num_outputs=fc_layer_size,\n",
    "                     use_relu=True)\n",
    "\n",
    "layer_fc2 = create_fc_layer(input=layer_fc1,\n",
    "                     num_inputs=fc_layer_size,\n",
    "                     num_outputs=num_classes,\n",
    "                     use_relu=False)"
   ]
  },
  {
   "cell_type": "code",
   "execution_count": null,
   "metadata": {},
   "outputs": [],
   "source": []
  },
  {
   "cell_type": "code",
   "execution_count": null,
   "metadata": {},
   "outputs": [],
   "source": []
  },
  {
   "cell_type": "code",
   "execution_count": null,
   "metadata": {},
   "outputs": [],
   "source": []
  },
  {
   "cell_type": "code",
   "execution_count": null,
   "metadata": {},
   "outputs": [],
   "source": []
  }
 ],
 "metadata": {
  "kernelspec": {
   "display_name": "Python 3",
   "language": "python",
   "name": "python3"
  },
  "language_info": {
   "codemirror_mode": {
    "name": "ipython",
    "version": 3
   },
   "file_extension": ".py",
   "mimetype": "text/x-python",
   "name": "python",
   "nbconvert_exporter": "python",
   "pygments_lexer": "ipython3",
   "version": "3.6.6"
  }
 },
 "nbformat": 4,
 "nbformat_minor": 2
}
