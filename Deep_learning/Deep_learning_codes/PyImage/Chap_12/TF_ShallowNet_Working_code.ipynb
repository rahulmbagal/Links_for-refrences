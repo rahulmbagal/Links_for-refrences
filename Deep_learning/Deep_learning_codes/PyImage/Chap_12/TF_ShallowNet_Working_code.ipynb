{
 "cells": [
  {
   "cell_type": "code",
   "execution_count": 8,
   "metadata": {},
   "outputs": [],
   "source": [
    "from keras.preprocessing.image import img_to_array"
   ]
  },
  {
   "cell_type": "code",
   "execution_count": 9,
   "metadata": {},
   "outputs": [],
   "source": [
    "# import the necessary packages\n",
    "import cv2\n",
    "\n",
    "class SimplePreprocessor:\n",
    "    def __init__(self, width, height, inter=cv2.INTER_AREA):\n",
    "        # store the target image width, height, and interpolation\n",
    "        # method used when resizing\n",
    "        self.width = width\n",
    "        self.height = height\n",
    "        self.inter = inter\n",
    "\n",
    "    def preprocess(self, image):\n",
    "        # resize the image to a fixed size, ignoring the aspect\n",
    "        # ratio\n",
    "        return cv2.resize(image, (self.width, self.height),interpolation=self.inter)"
   ]
  },
  {
   "cell_type": "code",
   "execution_count": 10,
   "metadata": {},
   "outputs": [],
   "source": [
    "# import the necessary packages\n",
    "from keras.preprocessing.image import img_to_array\n",
    "\n",
    "class ImageToArrayPreprocessor:\n",
    "    def __init__(self, dataFormat=None):\n",
    "        # store the image data format\n",
    "        self.dataFormat = dataFormat\n",
    "\n",
    "    def preprocess(self, image):\n",
    "        # apply the Keras utility function that correctly rearranges\n",
    "        # the dimensions of the image\n",
    "#         return img_to_array(image, data_format=self.dataFormat)\n",
    "        return img_to_array(image)"
   ]
  },
  {
   "cell_type": "code",
   "execution_count": 11,
   "metadata": {},
   "outputs": [],
   "source": [
    "# import the necessary packages\n",
    "import numpy as np\n",
    "import cv2\n",
    "import os\n",
    "\n",
    "class SimpleDatasetLoader:\n",
    "#     def __init__(self, preprocessors=None):\n",
    "    def __init__(self):\n",
    "\n",
    "        from tqdm import tqdm\n",
    "\n",
    "        # store the image preprocessor\n",
    "#         self.preprocessors = preprocessors\n",
    "\n",
    "        # if the preprocessors are None, initialize them as an\n",
    "        # empty list\n",
    "#         if self.preprocessors is None:\n",
    "#             self.preprocessors = []\n",
    "\n",
    "    def load(self, imagePaths, verbose=-1):\n",
    "        # initialize the list of features and labels\n",
    "        data = []\n",
    "        labels = []\n",
    "        \n",
    "        from tqdm import tqdm\n",
    "        i = 0\n",
    "        for img in tqdm(os.listdir(imagePaths)):\n",
    "            label = img\n",
    "            path = os.path.join(imagePaths,img)\n",
    "            for filename in os.listdir(path):\n",
    "                image = cv2.imread(os.path.join(path, filename))\n",
    "#                 print ('image = ', image)\n",
    "#                 print ('os.path.join(path, filename) = ',os.path.join(path, filename))\n",
    "#                 print ('filename = ', filename)\n",
    "#                 if self.preprocessors is not None:\n",
    "                    # loop over the preprocessors and apply each to\n",
    "                    # the image\n",
    "#                     for p in self.preprocessors:\n",
    "                sp = SimplePreprocessor(32, 32)\n",
    "                image = sp.preprocess(image)\n",
    "#                 print (\"sp completed\")\n",
    "                iap = ImageToArrayPreprocessor()\n",
    "                image = iap.preprocess(image)\n",
    "\n",
    "                # treat our processed image as a \"feature vector\"\n",
    "                # by updating the data list followed by the labels\n",
    "                data.append(image)\n",
    "                labels.append(label)\n",
    "\n",
    "#                         if verbose > 0 and i > 0 and (i + 1) % verbose == 0:\n",
    "#                             print(\"[INFO] processed {}/{}\".format(i + 1,len(imagePaths)))\n",
    "\n",
    "        #return a tuple of the data and labels\n",
    "        return (np.array(data), np.array(labels))\n"
   ]
  },
  {
   "cell_type": "code",
   "execution_count": 22,
   "metadata": {},
   "outputs": [],
   "source": [
    "# import the necessary packages\n",
    "from keras.models import Sequential\n",
    "from keras.layers.convolutional import Conv2D\n",
    "from keras.layers.core import Activation\n",
    "from keras.layers.core import Flatten\n",
    "from keras.layers.core import Dense\n",
    "from keras import backend as K\n",
    "\n",
    "class ShallowNet:\n",
    "\t@staticmethod\n",
    "\tdef build(width, height, depth, classes):\n",
    "\t\t# initialize the model along with the input shape to be\n",
    "\t\t# \"channels last\"\n",
    "\t\tmodel = Sequential()\n",
    "\t\tinputShape = (height, width, depth)\n",
    "\n",
    "\t\t# if we are using \"channels first\", update the input shape\n",
    "\t\tif K.image_data_format() == \"channels_first\":\n",
    "\t\t\tinputShape = (depth, height, width)\n",
    "\n",
    "\t\t# define the first (and only) CONV => RELU layer\n",
    "\t\tmodel.add(Conv2D(32, (3, 3), padding=\"same\", input_shape=inputShape))\n",
    "\t\tmodel.add(Activation(\"relu\"))\n",
    "\n",
    "\t\t# softmax classifier\n",
    "\t\tmodel.add(Flatten())\n",
    "\t\tmodel.add(Dense(classes))\n",
    "\t\tmodel.add(Activation(\"softmax\"))\n",
    "\n",
    "\t\t# return the constructed network architecture\n",
    "\t\treturn model"
   ]
  },
  {
   "cell_type": "code",
   "execution_count": 23,
   "metadata": {},
   "outputs": [],
   "source": [
    "sp = SimplePreprocessor(32, 32)\n",
    "iap = ImageToArrayPreprocessor()\n",
    "sd1 = SimpleDatasetLoader()"
   ]
  },
  {
   "cell_type": "code",
   "execution_count": 13,
   "metadata": {},
   "outputs": [],
   "source": [
    "imagePaths = 'G:/pyimagesearch/SB_Code/SB_Code/datasets/animals/'"
   ]
  },
  {
   "cell_type": "code",
   "execution_count": 14,
   "metadata": {},
   "outputs": [
    {
     "name": "stderr",
     "output_type": "stream",
     "text": [
      "100%|████████████████████████████████████████████████████████████| 3/3 [00:59<00:00, 19.20s/it]\n"
     ]
    }
   ],
   "source": [
    "(data, lables) = sd1.load(imagePaths, verbose=500)"
   ]
  },
  {
   "cell_type": "code",
   "execution_count": 15,
   "metadata": {},
   "outputs": [
    {
     "data": {
      "text/plain": [
       "(3000, 32, 32, 3)"
      ]
     },
     "execution_count": 15,
     "metadata": {},
     "output_type": "execute_result"
    }
   ],
   "source": [
    "data.shape"
   ]
  },
  {
   "cell_type": "code",
   "execution_count": 16,
   "metadata": {},
   "outputs": [
    {
     "data": {
      "text/plain": [
       "(3000,)"
      ]
     },
     "execution_count": 16,
     "metadata": {},
     "output_type": "execute_result"
    }
   ],
   "source": [
    "lables.shape"
   ]
  },
  {
   "cell_type": "code",
   "execution_count": 20,
   "metadata": {},
   "outputs": [
    {
     "name": "stdout",
     "output_type": "stream",
     "text": [
      "[INFO] loading images...\n"
     ]
    },
    {
     "name": "stderr",
     "output_type": "stream",
     "text": [
      "100%|████████████████████████████████████████████████████████████| 3/3 [01:59<00:00, 42.95s/it]\n"
     ]
    }
   ],
   "source": [
    "from sklearn.preprocessing import LabelBinarizer\n",
    "from sklearn.model_selection import train_test_split\n",
    "from sklearn.metrics import classification_report\n",
    "# from pyimagesearch.preprocessing import ImageToArrayPreprocessor\n",
    "# from pyimagesearch.preprocessing import SimplePreprocessor\n",
    "# from pyimagesearch.datasets import SimpleDatasetLoader\n",
    "# from pyimagesearch.nn.conv import ShallowNet\n",
    "from keras.optimizers import SGD\n",
    "from imutils import paths\n",
    "import matplotlib.pyplot as plt\n",
    "import numpy as np\n",
    "import argparse\n",
    "\n",
    "# construct the argument parse and parse the arguments\n",
    "# ap = argparse.ArgumentParser()\n",
    "# ap.add_argument(\"-d\", \"--dataset\", required=True,\n",
    "# \thelp=\"path to input dataset\")\n",
    "# args = vars(ap.parse_args())\n",
    "\n",
    "# grab the list of images that we'll be describing\n",
    "print(\"[INFO] loading images...\")\n",
    "# imagePaths = list(paths.list_images(args[\"dataset\"]))\n",
    "imagePaths = 'G:/pyimagesearch/SB_Code/SB_Code/datasets/animals/'\n",
    "# initialize the image preprocessors\n",
    "# sp = SimplePreprocessor(32, 32)\n",
    "# iap = ImageToArrayPreprocessor()\n",
    "\n",
    "# load the dataset from disk then scale the raw pixel intensities\n",
    "# to the range [0, 1]\n",
    "sdl = SimpleDatasetLoader()\n",
    "(data, labels) = sdl.load(imagePaths, verbose=500)\n",
    "data = data.astype(\"float\") / 255.0\n",
    "\n"
   ]
  },
  {
   "cell_type": "code",
   "execution_count": 26,
   "metadata": {},
   "outputs": [
    {
     "name": "stdout",
     "output_type": "stream",
     "text": [
      "[INFO] compiling model...\n",
      "[INFO] training network...\n",
      "Train on 2250 samples, validate on 750 samples\n",
      "Epoch 1/2\n",
      "2250/2250 [==============================] - ETA: 53s - loss: 1.1221 - acc: 0.25 - ETA: 30s - loss: 1.1115 - acc: 0.31 - ETA: 21s - loss: 1.1080 - acc: 0.33 - ETA: 17s - loss: 1.1036 - acc: 0.35 - ETA: 15s - loss: 1.1007 - acc: 0.36 - ETA: 13s - loss: 1.0933 - acc: 0.40 - ETA: 12s - loss: 1.0907 - acc: 0.40 - ETA: 10s - loss: 1.0853 - acc: 0.42 - ETA: 10s - loss: 1.0829 - acc: 0.42 - ETA: 9s - loss: 1.0893 - acc: 0.4188 - ETA: 8s - loss: 1.0891 - acc: 0.411 - ETA: 8s - loss: 1.0884 - acc: 0.408 - ETA: 7s - loss: 1.0854 - acc: 0.411 - ETA: 7s - loss: 1.0863 - acc: 0.399 - ETA: 7s - loss: 1.0854 - acc: 0.397 - ETA: 6s - loss: 1.0820 - acc: 0.410 - ETA: 6s - loss: 1.0816 - acc: 0.404 - ETA: 6s - loss: 1.0802 - acc: 0.413 - ETA: 5s - loss: 1.0806 - acc: 0.412 - ETA: 5s - loss: 1.0801 - acc: 0.407 - ETA: 5s - loss: 1.0785 - acc: 0.407 - ETA: 5s - loss: 1.0781 - acc: 0.411 - ETA: 5s - loss: 1.0750 - acc: 0.417 - ETA: 4s - loss: 1.0738 - acc: 0.412 - ETA: 4s - loss: 1.0743 - acc: 0.413 - ETA: 4s - loss: 1.0715 - acc: 0.419 - ETA: 4s - loss: 1.0667 - acc: 0.427 - ETA: 4s - loss: 1.0680 - acc: 0.421 - ETA: 4s - loss: 1.0657 - acc: 0.423 - ETA: 3s - loss: 1.0644 - acc: 0.426 - ETA: 3s - loss: 1.0647 - acc: 0.427 - ETA: 3s - loss: 1.0630 - acc: 0.430 - ETA: 3s - loss: 1.0622 - acc: 0.430 - ETA: 3s - loss: 1.0612 - acc: 0.433 - ETA: 3s - loss: 1.0584 - acc: 0.440 - ETA: 3s - loss: 1.0563 - acc: 0.443 - ETA: 3s - loss: 1.0561 - acc: 0.442 - ETA: 2s - loss: 1.0533 - acc: 0.446 - ETA: 2s - loss: 1.0541 - acc: 0.444 - ETA: 2s - loss: 1.0523 - acc: 0.449 - ETA: 2s - loss: 1.0494 - acc: 0.453 - ETA: 2s - loss: 1.0464 - acc: 0.454 - ETA: 2s - loss: 1.0465 - acc: 0.454 - ETA: 2s - loss: 1.0467 - acc: 0.452 - ETA: 1s - loss: 1.0449 - acc: 0.454 - ETA: 1s - loss: 1.0462 - acc: 0.450 - ETA: 1s - loss: 1.0451 - acc: 0.452 - ETA: 1s - loss: 1.0420 - acc: 0.455 - ETA: 1s - loss: 1.0383 - acc: 0.458 - ETA: 1s - loss: 1.0384 - acc: 0.456 - ETA: 0s - loss: 1.0358 - acc: 0.460 - ETA: 0s - loss: 1.0336 - acc: 0.465 - ETA: 0s - loss: 1.0326 - acc: 0.465 - ETA: 0s - loss: 1.0315 - acc: 0.465 - ETA: 0s - loss: 1.0299 - acc: 0.465 - ETA: 0s - loss: 1.0277 - acc: 0.469 - ETA: 0s - loss: 1.0262 - acc: 0.470 - 5s 2ms/step - loss: 1.0264 - acc: 0.4698 - val_loss: 1.0325 - val_acc: 0.4413\n",
      "Epoch 2/2\n",
      "2250/2250 [==============================] - ETA: 2s - loss: 1.1267 - acc: 0.375 - ETA: 3s - loss: 1.0900 - acc: 0.421 - ETA: 2s - loss: 1.0177 - acc: 0.429 - ETA: 2s - loss: 1.0005 - acc: 0.463 - ETA: 2s - loss: 0.9751 - acc: 0.503 - ETA: 2s - loss: 0.9731 - acc: 0.506 - ETA: 2s - loss: 0.9686 - acc: 0.503 - ETA: 2s - loss: 0.9657 - acc: 0.502 - ETA: 2s - loss: 0.9585 - acc: 0.504 - ETA: 2s - loss: 0.9596 - acc: 0.504 - ETA: 2s - loss: 0.9601 - acc: 0.505 - ETA: 2s - loss: 0.9528 - acc: 0.512 - ETA: 2s - loss: 0.9535 - acc: 0.515 - ETA: 2s - loss: 0.9419 - acc: 0.529 - ETA: 1s - loss: 0.9399 - acc: 0.528 - ETA: 1s - loss: 0.9415 - acc: 0.530 - ETA: 1s - loss: 0.9402 - acc: 0.532 - ETA: 1s - loss: 0.9350 - acc: 0.535 - ETA: 1s - loss: 0.9409 - acc: 0.528 - ETA: 1s - loss: 0.9408 - acc: 0.531 - ETA: 1s - loss: 0.9424 - acc: 0.530 - ETA: 1s - loss: 0.9457 - acc: 0.525 - ETA: 1s - loss: 0.9457 - acc: 0.525 - ETA: 1s - loss: 0.9460 - acc: 0.528 - ETA: 1s - loss: 0.9430 - acc: 0.532 - ETA: 1s - loss: 0.9409 - acc: 0.530 - ETA: 1s - loss: 0.9380 - acc: 0.533 - ETA: 0s - loss: 0.9394 - acc: 0.531 - ETA: 0s - loss: 0.9348 - acc: 0.533 - ETA: 0s - loss: 0.9343 - acc: 0.532 - ETA: 0s - loss: 0.9337 - acc: 0.533 - ETA: 0s - loss: 0.9327 - acc: 0.535 - ETA: 0s - loss: 0.9327 - acc: 0.536 - ETA: 0s - loss: 0.9286 - acc: 0.539 - ETA: 0s - loss: 0.9283 - acc: 0.540 - ETA: 0s - loss: 0.9256 - acc: 0.540 - ETA: 0s - loss: 0.9259 - acc: 0.538 - ETA: 0s - loss: 0.9276 - acc: 0.536 - ETA: 0s - loss: 0.9278 - acc: 0.535 - 3s 1ms/step - loss: 0.9282 - acc: 0.5356 - val_loss: 0.9334 - val_acc: 0.4880\n",
      "[INFO] evaluating network...\n",
      "             precision    recall  f1-score   support\n",
      "\n",
      "        cat       0.61      0.18      0.27       262\n",
      "        dog       0.38      0.84      0.52       249\n",
      "      panda       0.87      0.46      0.61       239\n",
      "\n",
      "avg / total       0.62      0.49      0.46       750\n",
      "\n"
     ]
    }
   ],
   "source": [
    "# partition the data into training and testing splits using 75% of\n",
    "# the data for training and the remaining 25% for testing\n",
    "(trainX, testX, trainY, testY) = train_test_split(data, labels,\n",
    "\ttest_size=0.25, random_state=42)\n",
    "\n",
    "# convert the labels from integers to vectors\n",
    "trainY = LabelBinarizer().fit_transform(trainY)\n",
    "testY = LabelBinarizer().fit_transform(testY)\n",
    "\n",
    "# initialize the optimizer and model\n",
    "print(\"[INFO] compiling model...\")\n",
    "opt = SGD(lr=0.005)\n",
    "model = ShallowNet.build(width=32, height=32, depth=3, classes=3)\n",
    "model.compile(loss=\"categorical_crossentropy\", optimizer=opt, metrics=[\"accuracy\"])\n",
    "\n",
    "# train the network\n",
    "print(\"[INFO] training network...\")\n",
    "H = model.fit(trainX, trainY, validation_data=(testX, testY),\n",
    "\tbatch_size=32, epochs=2, verbose=1)\n",
    "\n",
    "# evaluate the network\n",
    "print(\"[INFO] evaluating network...\")\n",
    "predictions = model.predict(testX, batch_size=32)\n",
    "print(classification_report(testY.argmax(axis=1),\n",
    "\tpredictions.argmax(axis=1),\n",
    "\ttarget_names=[\"cat\", \"dog\", \"panda\"]))\n",
    "\n"
   ]
  },
  {
   "cell_type": "code",
   "execution_count": 28,
   "metadata": {},
   "outputs": [
    {
     "data": {
      "image/png": "[encoded data removed]",
      "text/plain": [
       "<Figure size 432x288 with 1 Axes>"
      ]
     },
     "metadata": {},
     "output_type": "display_data"
    }
   ],
   "source": [
    "## plot the training loss and accuracy\n",
    "plt.style.use(\"ggplot\")\n",
    "plt.figure()\n",
    "plt.plot(np.arange(0, 2), H.history[\"loss\"], label=\"train_loss\")\n",
    "plt.plot(np.arange(0, 2), H.history[\"val_loss\"], label=\"val_loss\")\n",
    "plt.plot(np.arange(0, 2), H.history[\"acc\"], label=\"train_acc\")\n",
    "plt.plot(np.arange(0, 2), H.history[\"val_acc\"], label=\"val_acc\")\n",
    "plt.title(\"Training Loss and Accuracy\")\n",
    "plt.xlabel(\"Epoch #\")\n",
    "plt.ylabel(\"Loss/Accuracy\")\n",
    "plt.legend()\n",
    "plt.show()"
   ]
  },
  {
   "cell_type": "code",
   "execution_count": null,
   "metadata": {},
   "outputs": [],
   "source": []
  },
  {
   "cell_type": "code",
   "execution_count": null,
   "metadata": {},
   "outputs": [],
   "source": []
  },
  {
   "cell_type": "code",
   "execution_count": null,
   "metadata": {},
   "outputs": [],
   "source": []
  },
  {
   "cell_type": "code",
   "execution_count": null,
   "metadata": {},
   "outputs": [],
   "source": []
  }
 ],
 "metadata": {
  "kernelspec": {
   "display_name": "Python 3",
   "language": "python",
   "name": "python3"
  },
  "language_info": {
   "codemirror_mode": {
    "name": "ipython",
    "version": 3
   },
   "file_extension": ".py",
   "mimetype": "text/x-python",
   "name": "python",
   "nbconvert_exporter": "python",
   "pygments_lexer": "ipython3",
   "version": "3.6.6"
  }
 },
 "nbformat": 4,
 "nbformat_minor": 2
}
